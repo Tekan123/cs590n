{
 "cells": [
  {
   "cell_type": "code",
   "execution_count": 1,
   "metadata": {},
   "outputs": [
    {
     "data": {
      "text/html": [
       "58"
      ],
      "text/latex": [
       "58"
      ],
      "text/markdown": [
       "58"
      ],
      "text/plain": [
       "[1] 58"
      ]
     },
     "metadata": {},
     "output_type": "display_data"
    }
   ],
   "source": [
    "#First, pick a random integer from 1 to 100 and assign it to a variable\n",
    "#Note: sample() allows you to select a random integer between two values - run help(sample) to determine the syntax\n",
    "n=sample\n",
    "x<-1:100\n",
    "sample(x, size=1, replace = FALSE, prob = NULL)\n"
   ]
  },
  {
   "cell_type": "code",
   "execution_count": 2,
   "metadata": {},
   "outputs": [
    {
     "name": "stdout",
     "output_type": "stream",
     "text": [
      "[1] \"WELCOME TO GUESS ME!\"\n",
      "[1] \"I'm thinking of a number between 1 and 100\"\n",
      "[1] \"If your guess is more than 10 away from my number, I'll tell you you're COLD\"\n",
      "[1] \"If your guess is within 10 of my number, I'll tell you you're WARM\"\n",
      "[1] \"If your guess is farther than your most recent guess,I'll say you're getting COLDER\"\n",
      "[1] \"If your guess is closer than your most recent guess, I'LL say you're getting WARMER\"\n",
      "[1] \"LET'S PLAY!\"\n"
     ]
    }
   ],
   "source": [
    "#Next, print an introduction to the game and explain the rules\n",
    "print('WELCOME TO GUESS ME!')\n",
    "print(\"I'm thinking of a number between 1 and 100\")\n",
    "print(\"If your guess is more than 10 away from my number, I'll tell you you're COLD\")\n",
    "print(\"If your guess is within 10 of my number, I'll tell you you're WARM\")\n",
    "print(\"If your guess is farther than your most recent guess,I'll say you're getting COLDER\")\n",
    "print(\"If your guess is closer than your most recent guess, I'LL say you're getting WARMER\")\n",
    "print(\"LET'S PLAY!\")\n"
   ]
  },
  {
   "cell_type": "code",
   "execution_count": 4,
   "metadata": {},
   "outputs": [
    {
     "data": {
      "text/html": [
       "0"
      ],
      "text/latex": [
       "0"
      ],
      "text/markdown": [
       "0"
      ],
      "text/plain": [
       "[1] 0"
      ]
     },
     "metadata": {},
     "output_type": "display_data"
    }
   ],
   "source": [
    "#Create a list to store guesses\n",
    "#HINT: Zero is a good placeholder value. It's useful because it evaluates to \"FALSE\" based on the conditions of the game\n",
    "guesses <- c(0)\n",
    "guesses"
   ]
  },
  {
   "cell_type": "code",
   "execution_count": null,
   "metadata": {},
   "outputs": [
    {
     "name": "stderr",
     "output_type": "stream",
     "text": [
      "Guess a number between 1 and 100.\n"
     ]
    }
   ],
   "source": [
    "#Write a while loop that asks for a valid guess. Test it a few times to make sure it works.\n",
    "#NOTE: Use the built-in R function readlines() to get user input. Use message() to print text to the console while the loop is running\n",
    "    \n",
    "response<- 1\n",
    "while (response >=1 & response<=100){\n",
    "    message(\"Guess a number between 1 and 100.\")\n",
    "    readline(prompt=\"What is your guess?\")\n",
    "    \n",
    "    response <- response+1\n",
    "    \n",
    "    if (response<1 & response >100){\n",
    "        message(\"OUT OF BOUNDS.Please Try Again:\")\n",
    "        next        \n",
    "    }\n",
    "}\n"
   ]
  },
  {
   "cell_type": "code",
   "execution_count": null,
   "metadata": {},
   "outputs": [],
   "source": [
    "#Write a while loop that compares the player's guess to our number. If the player guesses correctly, break from the loop. Otherwise, tell the player if they're warmer or colder, and continue asking for guesses.\n",
    "#Some hints:\n",
    "\n",
    "#It may help to sketch out all possible combinations on paper first\n",
    "#Use a difference of 10 to suggest warm or cold\n",
    "#you can use the abs() function to find the positive difference between two numbers\n",
    "#Use append() to append all new guesses to the list, then the previous guess is given as guesses[length(guesses)-1]\n",
    "#For the initial guess, lenght(guesses)-1 == 0, which resolves to FALSE. Use this to determine warm and cold vs warmer and colder"
   ]
  },
  {
   "cell_type": "code",
   "execution_count": null,
   "metadata": {},
   "outputs": [],
   "source": [
    "#Lastly, compile everything together in a single cell to run, including the random integer and the list for compiling the guesses"
   ]
  }
 ],
 "metadata": {
  "kernelspec": {
   "display_name": "R",
   "language": "R",
   "name": "ir"
  },
  "language_info": {
   "codemirror_mode": "r",
   "file_extension": ".r",
   "mimetype": "text/x-r-source",
   "name": "R",
   "pygments_lexer": "r",
   "version": "3.6.1"
  }
 },
 "nbformat": 4,
 "nbformat_minor": 2
}
